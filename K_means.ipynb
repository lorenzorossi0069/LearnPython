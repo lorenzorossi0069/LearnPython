{
  "nbformat": 4,
  "nbformat_minor": 0,
  "metadata": {
    "colab": {
      "name": "K-means.ipynb",
      "provenance": [],
      "collapsed_sections": [],
      "authorship_tag": "ABX9TyNkNW8KXgJcMirB0xcjxIxg",
      "include_colab_link": true
    },
    "kernelspec": {
      "name": "python3",
      "display_name": "Python 3"
    }
  },
  "cells": [
    {
      "cell_type": "markdown",
      "metadata": {
        "id": "view-in-github",
        "colab_type": "text"
      },
      "source": [
        "<a href=\"https://colab.research.google.com/github/lorenzorossi0069/LearnPython/blob/master/K_means.ipynb\" target=\"_parent\"><img src=\"https://colab.research.google.com/assets/colab-badge.svg\" alt=\"Open In Colab\"/></a>"
      ]
    },
    {
      "cell_type": "markdown",
      "metadata": {
        "id": "FY2UhlSlPcwI",
        "colab_type": "text"
      },
      "source": [
        "#Definizioni e crezione dati"
      ]
    },
    {
      "cell_type": "code",
      "metadata": {
        "id": "OWnanVBca04Q",
        "colab_type": "code",
        "colab": {}
      },
      "source": [
        "import numpy as np\n",
        "import matplotlib.pyplot as plt\n",
        "#import matplotlib.cm as cm  #colormap\n",
        "%matplotlib inline\n",
        "\n",
        "#from numpy.random  import random \n",
        "#from numpy.random import seed \n",
        "np.random.seed(10)"
      ],
      "execution_count": 120,
      "outputs": []
    },
    {
      "cell_type": "code",
      "metadata": {
        "id": "sz8qoMoDC26f",
        "colab_type": "code",
        "colab": {}
      },
      "source": [
        "'''#cmap reference: https://matplotlib.org/examples/color/colormaps_reference.html\n",
        "\n",
        "#from sklearn.datasets import make_blobs\n",
        "\n",
        "\n",
        "X, y = make_blobs(n_samples=1500, centers=3,\n",
        "                  n_features=2, random_state=800)\n",
        "centroids = [[-6,2],[3,-4],[-5,10]]\n",
        "\n",
        "plt.scatter(X[:, 0], X[:, 1], c=4+y,s=50, cmap='tab20b')'''"
      ],
      "execution_count": null,
      "outputs": []
    },
    {
      "cell_type": "code",
      "metadata": {
        "id": "NBOxzk1gfStr",
        "colab_type": "code",
        "colab": {}
      },
      "source": [
        "#all data\n",
        "X=[]\n",
        "Y=[]\n",
        "# clusters (list of lists)\n",
        "clusters_X=[]\n",
        "clusters_Y=[]\n",
        "clusters_classification=[]"
      ],
      "execution_count": 121,
      "outputs": []
    },
    {
      "cell_type": "code",
      "metadata": {
        "id": "CEcVSBUbmCTd",
        "colab_type": "code",
        "colab": {}
      },
      "source": [
        "def generateData(numPoints):\n",
        "  return(np.random.random(numPoints),np.random.random(numPoints))\n",
        "\n",
        "def generateCentroids(num_K):\n",
        "  #create num_K random centroids\n",
        "  return (np.random.random(num_K), np.random.random(num_K))\n",
        "\n",
        "def SearchCluster(X,Y,XK,YK):\n",
        "  global clusters_classification\n",
        "  clusters_classification=[]\n",
        "  #first, let us define num_K empty cluster\n",
        "  global clusters_X\n",
        "  global clusters_Y\n",
        "  clusters_X=[]\n",
        "  clusters_Y=[]\n",
        "  for c in range(len(XK)):\n",
        "    clusters_X.append([])\n",
        "    clusters_Y.append([])\n",
        "\n",
        "  for xi,yi in zip(X, Y):\n",
        "    distanza=[]\n",
        "    for k in range(len(XK)):\n",
        "      dx=(xi-XK[k])\n",
        "      dy=(yi-YK[k])\n",
        "      distanza.append(np.sqrt(dx**2+dy**2))\n",
        "\n",
        "    #print('distanza = '+str(distanza))\n",
        "    # scelgo minima distanza \n",
        "    cluster_id = np.argmin(distanza)\n",
        "    clusters_classification.append(cluster_id)\n",
        "    #print('cluster_id = '+str(cluster_id))\n",
        "    clusters_X[cluster_id].append(xi)\n",
        "    clusters_Y[cluster_id].append(yi)\n",
        "    #print(clusters_X[cluster_id],clusters_Y[cluster_id])\n",
        "\n",
        "  #print(len(clusters_X))"
      ],
      "execution_count": 122,
      "outputs": []
    },
    {
      "cell_type": "markdown",
      "metadata": {
        "id": "1PtWZkUGPw8Z",
        "colab_type": "text"
      },
      "source": [
        "#Random centroids"
      ]
    },
    {
      "cell_type": "code",
      "metadata": {
        "id": "ujGIVoI0niI9",
        "colab_type": "code",
        "colab": {
          "base_uri": "https://localhost:8080/",
          "height": 283
        },
        "outputId": "dd7c7f40-ef6d-4b7c-8699-da543d342579"
      },
      "source": [
        "#first (random) centroids\n",
        "X,Y=generateData(25)\n",
        "XK,YK = generateCentroids(3)\n",
        "\n",
        "fig,ax= plt.subplots(1,1)\n",
        "ax.scatter(X, Y, s=30,c='black')\n",
        "ax.scatter(XK, YK, s=200,c='red', marker='^')\n"
      ],
      "execution_count": 137,
      "outputs": [
        {
          "output_type": "execute_result",
          "data": {
            "text/plain": [
              "<matplotlib.collections.PathCollection at 0x7f11df8d1f28>"
            ]
          },
          "metadata": {
            "tags": []
          },
          "execution_count": 137
        },
        {
          "output_type": "display_data",
          "data": {
            "image/png": "[encoded data removed]",
            "text/plain": [
              "<Figure size 432x288 with 1 Axes>"
            ]
          },
          "metadata": {
            "tags": [],
            "needs_background": "light"
          }
        }
      ]
    },
    {
      "cell_type": "code",
      "metadata": {
        "id": "qysJTKFbJM0E",
        "colab_type": "code",
        "colab": {
          "base_uri": "https://localhost:8080/",
          "height": 300
        },
        "outputId": "c94e6686-5771-4ed7-f55c-0c0422d2064b"
      },
      "source": [
        "SearchCluster(X,Y,XK,YK)\n",
        "\n",
        "fig,ax= plt.subplots(1,1)\n",
        "ax.scatter(XK, YK, s=200,c='red', marker='^')\n",
        "\n",
        "#ricalcolo nuovi centroidi come baricentro dei cluster appena trovati\n",
        "for i in range(len(clusters_X)):\n",
        "  XK[i]=np.average(clusters_X[i])\n",
        "  YK[i]=np.average(clusters_Y[i])\n",
        "\n",
        "'''ax.scatter(clusters_X[0], clusters_Y[0], s=30,c='red',marker='o')\n",
        "ax.scatter(clusters_X[1], clusters_Y[1], s=30,c='blue',marker='o')\n",
        "ax.scatter(clusters_X[2], clusters_Y[2], s=30,c='green',marker='o')  '''\n",
        "\n",
        "c= list(range(len(XK)))\n",
        "print(c)\n",
        "ax.scatter(X, Y, c=clusters_classification,s=50, cmap='tab20b')"
      ],
      "execution_count": 146,
      "outputs": [
        {
          "output_type": "stream",
          "text": [
            "[0, 1, 2]\n"
          ],
          "name": "stdout"
        },
        {
          "output_type": "execute_result",
          "data": {
            "text/plain": [
              "<matplotlib.collections.PathCollection at 0x7f11df7b6748>"
            ]
          },
          "metadata": {
            "tags": []
          },
          "execution_count": 146
        },
        {
          "output_type": "display_data",
          "data": {
            "image/png": "[encoded data removed]",
            "text/plain": [
              "<Figure size 432x288 with 1 Axes>"
            ]
          },
          "metadata": {
            "tags": [],
            "needs_background": "light"
          }
        }
      ]
    }
  ]
}